{
 "cells": [
  {
   "cell_type": "code",
   "execution_count": 1,
   "id": "10166060",
   "metadata": {},
   "outputs": [
    {
     "name": "stdout",
     "output_type": "stream",
     "text": [
      "Collecting git+https://github.com/wookayin/expt@master\n",
      "  Cloning https://github.com/wookayin/expt (to revision master) to /tmp/pip-req-build-vbhhym05\n",
      "  Running command git clone -q https://github.com/wookayin/expt /tmp/pip-req-build-vbhhym05\n",
      "  Resolved https://github.com/wookayin/expt to commit 4b7dd51f6d4187c5bbf0d7fc2bcc672632c0d001\n",
      "Requirement already satisfied: numpy>=1.16.5 in /home/wcarvalh/miniconda3/envs/sfgen/lib/python3.7/site-packages (from expt==0.4.0.dev0) (1.21.2)\n",
      "Requirement already satisfied: scipy in /home/wcarvalh/miniconda3/envs/sfgen/lib/python3.7/site-packages (from expt==0.4.0.dev0) (1.7.1)\n",
      "Collecting dataclasses>=0.6\n",
      "  Downloading dataclasses-0.6-py3-none-any.whl (14 kB)\n",
      "Collecting typeguard>=2.6.1\n",
      "  Downloading typeguard-2.13.3-py3-none-any.whl (17 kB)\n",
      "Requirement already satisfied: matplotlib>=3.0.0 in /home/wcarvalh/miniconda3/envs/sfgen/lib/python3.7/site-packages (from expt==0.4.0.dev0) (3.4.2)\n",
      "Requirement already satisfied: pandas>=1.0 in /home/wcarvalh/miniconda3/envs/sfgen/lib/python3.7/site-packages (from expt==0.4.0.dev0) (1.3.3)\n",
      "Collecting multiprocess>=0.70.12\n",
      "  Downloading multiprocess-0.70.12.2-py37-none-any.whl (112 kB)\n",
      "\u001b[K     |████████████████████████████████| 112 kB 29.0 MB/s eta 0:00:01\n",
      "\u001b[?25hRequirement already satisfied: cycler>=0.10 in /home/wcarvalh/miniconda3/envs/sfgen/lib/python3.7/site-packages (from matplotlib>=3.0.0->expt==0.4.0.dev0) (0.10.0)\n",
      "Requirement already satisfied: pillow>=6.2.0 in /home/wcarvalh/miniconda3/envs/sfgen/lib/python3.7/site-packages (from matplotlib>=3.0.0->expt==0.4.0.dev0) (8.3.1)\n",
      "Requirement already satisfied: pyparsing>=2.2.1 in /home/wcarvalh/miniconda3/envs/sfgen/lib/python3.7/site-packages (from matplotlib>=3.0.0->expt==0.4.0.dev0) (2.4.7)\n",
      "Requirement already satisfied: python-dateutil>=2.7 in /home/wcarvalh/miniconda3/envs/sfgen/lib/python3.7/site-packages (from matplotlib>=3.0.0->expt==0.4.0.dev0) (2.8.2)\n",
      "Requirement already satisfied: kiwisolver>=1.0.1 in /home/wcarvalh/miniconda3/envs/sfgen/lib/python3.7/site-packages (from matplotlib>=3.0.0->expt==0.4.0.dev0) (1.3.1)\n",
      "Requirement already satisfied: six in /home/wcarvalh/miniconda3/envs/sfgen/lib/python3.7/site-packages (from cycler>=0.10->matplotlib>=3.0.0->expt==0.4.0.dev0) (1.16.0)\n",
      "Collecting dill>=0.3.4\n",
      "  Downloading dill-0.3.4-py2.py3-none-any.whl (86 kB)\n",
      "\u001b[K     |████████████████████████████████| 86 kB 8.5 MB/s  eta 0:00:01\n",
      "\u001b[?25hRequirement already satisfied: pytz>=2017.3 in /home/wcarvalh/miniconda3/envs/sfgen/lib/python3.7/site-packages (from pandas>=1.0->expt==0.4.0.dev0) (2021.3)\n",
      "Building wheels for collected packages: expt\n",
      "  Building wheel for expt (setup.py) ... \u001b[?25ldone\n",
      "\u001b[?25h  Created wheel for expt: filename=expt-0.4.0.dev0-py3-none-any.whl size=40077 sha256=e56be44ed8a1867c63f2e94b5fea8334b5f54e01414816cdd49034e2e0e7d53b\n",
      "  Stored in directory: /tmp/pip-ephem-wheel-cache-vgp5nlqg/wheels/43/7e/65/332e42e051a2c1a23a0cef31fb1b213b8185ad127961d8b4e0\n",
      "Successfully built expt\n",
      "Installing collected packages: dill, typeguard, multiprocess, dataclasses, expt\n",
      "Successfully installed dataclasses-0.6 dill-0.3.4 expt-0.4.0.dev0 multiprocess-0.70.12.2 typeguard-2.13.3\n"
     ]
    }
   ],
   "source": [
    "!pip install git+https://github.com/wookayin/expt@master        # Latest development version"
   ]
  },
  {
   "cell_type": "code",
   "execution_count": 2,
   "id": "a25deffa",
   "metadata": {},
   "outputs": [],
   "source": [
    "%load_ext autoreload\n",
    "%aimport expt.data\n",
    "%aimport expt.plot\n",
    "%autoreload 1\n",
    "from importlib import reload"
   ]
  },
  {
   "cell_type": "code",
   "execution_count": 3,
   "id": "d54b104f",
   "metadata": {},
   "outputs": [],
   "source": [
    "%matplotlib inline\n",
    "import matplotlib\n",
    "import matplotlib as mpl\n",
    "import matplotlib.pyplot as plt\n",
    "\n",
    "from PIL import Image\n",
    "from IPython.core.pylabtools import figsize\n",
    "\n",
    "mpl.rcParams['pdf.fonttype'] = 42     # use true-type\n",
    "mpl.rcParams['ps.fonttype'] = 42      # use true-type\n",
    "mpl.rcParams['font.size'] = 12\n",
    "\n",
    "%config InlineBackend.figure_format = 'retina'"
   ]
  },
  {
   "cell_type": "code",
   "execution_count": 4,
   "id": "ff017615",
   "metadata": {},
   "outputs": [
    {
     "name": "stdout",
     "output_type": "stream",
     "text": [
      "expt: 0.4.0.dev0\n"
     ]
    }
   ],
   "source": [
    "import expt\n",
    "print(\"expt:\", expt.__version__)\n",
    "\n",
    "import pandas as pd\n",
    "import numpy as np"
   ]
  },
  {
   "cell_type": "code",
   "execution_count": null,
   "id": "caf8a0ab",
   "metadata": {},
   "outputs": [
    {
     "data": {
      "application/vnd.jupyter.widget-view+json": {
       "model_id": "7d3bb365511a4ce1bb43b7671e1970dd",
       "version_major": 2,
       "version_minor": 0
      },
      "text/plain": [
       "  0%|          | 0/1 [00:00<?, ?it/s]"
      ]
     },
     "metadata": {},
     "output_type": "display_data"
    },
    {
     "name": "stderr",
     "output_type": "stream",
     "text": [
      "The TensorFlow library was compiled to use AVX instructions, but these aren't available on your machine.\n"
     ]
    }
   ],
   "source": [
    "agent='r2d1'\n",
    "run = expt.get_runs(f\"../results/msf/final/babyai_pickup_large/agent={agent},setting=large,exp=baselines_6/seed=1\")\n",
    "run[0].df"
   ]
  },
  {
   "cell_type": "code",
   "execution_count": 10,
   "id": "0882a3e5",
   "metadata": {},
   "outputs": [
    {
     "name": "stdout",
     "output_type": "stream",
     "text": [
      "Collecting tensorflow==2.7.0\n",
      "  Downloading tensorflow-2.7.0-cp37-cp37m-manylinux2010_x86_64.whl (489.6 MB)\n",
      "\u001b[K     |████████████████████████████████| 489.6 MB 21 kB/s s eta 0:00:01\n",
      "\u001b[?25hRequirement already satisfied: wrapt>=1.11.0 in /home/wcarvalh/miniconda3/envs/sfgen/lib/python3.7/site-packages (from tensorflow==2.7.0) (1.13.3)\n",
      "Requirement already satisfied: h5py>=2.9.0 in /home/wcarvalh/miniconda3/envs/sfgen/lib/python3.7/site-packages (from tensorflow==2.7.0) (3.6.0)\n",
      "Collecting gast<0.5.0,>=0.2.1\n",
      "  Downloading gast-0.4.0-py3-none-any.whl (9.8 kB)\n",
      "Requirement already satisfied: flatbuffers<3.0,>=1.12 in /home/wcarvalh/miniconda3/envs/sfgen/lib/python3.7/site-packages (from tensorflow==2.7.0) (2.0)\n",
      "Collecting tensorflow-estimator<2.8,~=2.7.0rc0\n",
      "  Downloading tensorflow_estimator-2.7.0-py2.py3-none-any.whl (463 kB)\n",
      "\u001b[K     |████████████████████████████████| 463 kB 23.4 MB/s eta 0:00:01\n",
      "\u001b[?25hRequirement already satisfied: six>=1.12.0 in /home/wcarvalh/miniconda3/envs/sfgen/lib/python3.7/site-packages (from tensorflow==2.7.0) (1.16.0)\n",
      "Requirement already satisfied: protobuf>=3.9.2 in /home/wcarvalh/miniconda3/envs/sfgen/lib/python3.7/site-packages (from tensorflow==2.7.0) (3.17.2)\n",
      "Requirement already satisfied: typing-extensions>=3.6.6 in /home/wcarvalh/miniconda3/envs/sfgen/lib/python3.7/site-packages (from tensorflow==2.7.0) (3.10.0.2)\n",
      "Requirement already satisfied: tensorflow-io-gcs-filesystem>=0.21.0 in /home/wcarvalh/miniconda3/envs/sfgen/lib/python3.7/site-packages (from tensorflow==2.7.0) (0.24.0)\n",
      "Requirement already satisfied: absl-py>=0.4.0 in /home/wcarvalh/miniconda3/envs/sfgen/lib/python3.7/site-packages (from tensorflow==2.7.0) (0.13.0)\n",
      "Requirement already satisfied: numpy>=1.14.5 in /home/wcarvalh/miniconda3/envs/sfgen/lib/python3.7/site-packages (from tensorflow==2.7.0) (1.21.2)\n",
      "Requirement already satisfied: opt-einsum>=2.3.2 in /home/wcarvalh/miniconda3/envs/sfgen/lib/python3.7/site-packages (from tensorflow==2.7.0) (3.3.0)\n",
      "Requirement already satisfied: tensorboard~=2.6 in /home/wcarvalh/miniconda3/envs/sfgen/lib/python3.7/site-packages (from tensorflow==2.7.0) (2.8.0)\n",
      "Requirement already satisfied: termcolor>=1.1.0 in /home/wcarvalh/miniconda3/envs/sfgen/lib/python3.7/site-packages (from tensorflow==2.7.0) (1.1.0)\n",
      "Requirement already satisfied: google-pasta>=0.1.1 in /home/wcarvalh/miniconda3/envs/sfgen/lib/python3.7/site-packages (from tensorflow==2.7.0) (0.2.0)\n",
      "Requirement already satisfied: keras-preprocessing>=1.1.1 in /home/wcarvalh/miniconda3/envs/sfgen/lib/python3.7/site-packages (from tensorflow==2.7.0) (1.1.2)\n",
      "Requirement already satisfied: libclang>=9.0.1 in /home/wcarvalh/miniconda3/envs/sfgen/lib/python3.7/site-packages (from tensorflow==2.7.0) (13.0.0)\n",
      "Requirement already satisfied: grpcio<2.0,>=1.24.3 in /home/wcarvalh/miniconda3/envs/sfgen/lib/python3.7/site-packages (from tensorflow==2.7.0) (1.36.1)\n",
      "Requirement already satisfied: astunparse>=1.6.0 in /home/wcarvalh/miniconda3/envs/sfgen/lib/python3.7/site-packages (from tensorflow==2.7.0) (1.6.3)\n",
      "Collecting keras<2.8,>=2.7.0rc0\n",
      "  Downloading keras-2.7.0-py2.py3-none-any.whl (1.3 MB)\n",
      "\u001b[K     |████████████████████████████████| 1.3 MB 36.8 MB/s eta 0:00:01\n",
      "\u001b[?25hRequirement already satisfied: wheel<1.0,>=0.32.0 in /home/wcarvalh/miniconda3/envs/sfgen/lib/python3.7/site-packages (from tensorflow==2.7.0) (0.37.0)\n",
      "Requirement already satisfied: cached-property in /home/wcarvalh/miniconda3/envs/sfgen/lib/python3.7/site-packages (from h5py>=2.9.0->tensorflow==2.7.0) (1.5.2)\n",
      "Requirement already satisfied: tensorboard-plugin-wit>=1.6.0 in /home/wcarvalh/miniconda3/envs/sfgen/lib/python3.7/site-packages (from tensorboard~=2.6->tensorflow==2.7.0) (1.6.0)\n",
      "Requirement already satisfied: tensorboard-data-server<0.7.0,>=0.6.0 in /home/wcarvalh/miniconda3/envs/sfgen/lib/python3.7/site-packages (from tensorboard~=2.6->tensorflow==2.7.0) (0.6.0)\n",
      "Requirement already satisfied: werkzeug>=0.11.15 in /home/wcarvalh/miniconda3/envs/sfgen/lib/python3.7/site-packages (from tensorboard~=2.6->tensorflow==2.7.0) (2.0.1)\n",
      "Requirement already satisfied: markdown>=2.6.8 in /home/wcarvalh/miniconda3/envs/sfgen/lib/python3.7/site-packages (from tensorboard~=2.6->tensorflow==2.7.0) (3.3.4)\n",
      "Requirement already satisfied: google-auth<3,>=1.6.3 in /home/wcarvalh/miniconda3/envs/sfgen/lib/python3.7/site-packages (from tensorboard~=2.6->tensorflow==2.7.0) (1.33.0)\n",
      "Requirement already satisfied: setuptools>=41.0.0 in /home/wcarvalh/miniconda3/envs/sfgen/lib/python3.7/site-packages (from tensorboard~=2.6->tensorflow==2.7.0) (58.0.4)\n",
      "Requirement already satisfied: requests<3,>=2.21.0 in /home/wcarvalh/miniconda3/envs/sfgen/lib/python3.7/site-packages (from tensorboard~=2.6->tensorflow==2.7.0) (2.26.0)\n",
      "Requirement already satisfied: google-auth-oauthlib<0.5,>=0.4.1 in /home/wcarvalh/miniconda3/envs/sfgen/lib/python3.7/site-packages (from tensorboard~=2.6->tensorflow==2.7.0) (0.4.1)\n",
      "Requirement already satisfied: cachetools<5.0,>=2.0.0 in /home/wcarvalh/miniconda3/envs/sfgen/lib/python3.7/site-packages (from google-auth<3,>=1.6.3->tensorboard~=2.6->tensorflow==2.7.0) (4.2.2)\n",
      "Requirement already satisfied: rsa<5,>=3.1.4 in /home/wcarvalh/miniconda3/envs/sfgen/lib/python3.7/site-packages (from google-auth<3,>=1.6.3->tensorboard~=2.6->tensorflow==2.7.0) (4.7.2)\n",
      "Requirement already satisfied: pyasn1-modules>=0.2.1 in /home/wcarvalh/miniconda3/envs/sfgen/lib/python3.7/site-packages (from google-auth<3,>=1.6.3->tensorboard~=2.6->tensorflow==2.7.0) (0.2.8)\n",
      "Requirement already satisfied: requests-oauthlib>=0.7.0 in /home/wcarvalh/miniconda3/envs/sfgen/lib/python3.7/site-packages (from google-auth-oauthlib<0.5,>=0.4.1->tensorboard~=2.6->tensorflow==2.7.0) (1.3.0)\n",
      "Requirement already satisfied: importlib-metadata in /home/wcarvalh/miniconda3/envs/sfgen/lib/python3.7/site-packages (from markdown>=2.6.8->tensorboard~=2.6->tensorflow==2.7.0) (4.8.1)\n",
      "Requirement already satisfied: pyasn1<0.5.0,>=0.4.6 in /home/wcarvalh/miniconda3/envs/sfgen/lib/python3.7/site-packages (from pyasn1-modules>=0.2.1->google-auth<3,>=1.6.3->tensorboard~=2.6->tensorflow==2.7.0) (0.4.8)\n",
      "Requirement already satisfied: certifi>=2017.4.17 in /home/wcarvalh/miniconda3/envs/sfgen/lib/python3.7/site-packages (from requests<3,>=2.21.0->tensorboard~=2.6->tensorflow==2.7.0) (2021.10.8)\n",
      "Requirement already satisfied: idna<4,>=2.5 in /home/wcarvalh/miniconda3/envs/sfgen/lib/python3.7/site-packages (from requests<3,>=2.21.0->tensorboard~=2.6->tensorflow==2.7.0) (3.2)\n",
      "Requirement already satisfied: charset-normalizer~=2.0.0 in /home/wcarvalh/miniconda3/envs/sfgen/lib/python3.7/site-packages (from requests<3,>=2.21.0->tensorboard~=2.6->tensorflow==2.7.0) (2.0.4)\n",
      "Requirement already satisfied: urllib3<1.27,>=1.21.1 in /home/wcarvalh/miniconda3/envs/sfgen/lib/python3.7/site-packages (from requests<3,>=2.21.0->tensorboard~=2.6->tensorflow==2.7.0) (1.26.7)\n",
      "Requirement already satisfied: oauthlib>=3.0.0 in /home/wcarvalh/miniconda3/envs/sfgen/lib/python3.7/site-packages (from requests-oauthlib>=0.7.0->google-auth-oauthlib<0.5,>=0.4.1->tensorboard~=2.6->tensorflow==2.7.0) (3.1.1)\n",
      "Requirement already satisfied: zipp>=0.5 in /home/wcarvalh/miniconda3/envs/sfgen/lib/python3.7/site-packages (from importlib-metadata->markdown>=2.6.8->tensorboard~=2.6->tensorflow==2.7.0) (3.6.0)\n",
      "Installing collected packages: tensorflow-estimator, keras, gast, tensorflow\n",
      "  Attempting uninstall: keras\n",
      "    Found existing installation: keras 2.8.0\n",
      "    Uninstalling keras-2.8.0:\n",
      "      Successfully uninstalled keras-2.8.0\n",
      "  Attempting uninstall: gast\n",
      "    Found existing installation: gast 0.5.3\n",
      "    Uninstalling gast-0.5.3:\n",
      "      Successfully uninstalled gast-0.5.3\n",
      "  Attempting uninstall: tensorflow\n",
      "    Found existing installation: tensorflow 2.8.0\n",
      "    Uninstalling tensorflow-2.8.0:\n",
      "      Successfully uninstalled tensorflow-2.8.0\n",
      "Successfully installed gast-0.4.0 keras-2.7.0 tensorflow-2.7.0 tensorflow-estimator-2.7.0\n"
     ]
    }
   ],
   "source": [
    "!pip install --upgrade tensorflow==2.7.0"
   ]
  },
  {
   "cell_type": "code",
   "execution_count": null,
   "id": "27a5a679",
   "metadata": {},
   "outputs": [],
   "source": []
  }
 ],
 "metadata": {
  "kernelspec": {
   "display_name": "Python 3 (ipykernel)",
   "language": "python",
   "name": "python3"
  },
  "language_info": {
   "codemirror_mode": {
    "name": "ipython",
    "version": 3
   },
   "file_extension": ".py",
   "mimetype": "text/x-python",
   "name": "python",
   "nbconvert_exporter": "python",
   "pygments_lexer": "ipython3",
   "version": "3.7.11"
  }
 },
 "nbformat": 4,
 "nbformat_minor": 5
}
