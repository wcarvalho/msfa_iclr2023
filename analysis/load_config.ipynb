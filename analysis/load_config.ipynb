{
 "cells": [
  {
   "cell_type": "code",
   "execution_count": 4,
   "id": "b2150099-52c4-44e5-a881-fcefd721f50d",
   "metadata": {},
   "outputs": [
    {
     "name": "stdout",
     "output_type": "stream",
     "text": [
      "Started\n",
      "/mnt/brain5/scratch/wcarvalh/projects/rljax/analysis\n"
     ]
    }
   ],
   "source": [
    "import sys\n",
    "import os\n",
    "sys.path.append(\"/mnt/brain5/scratch/wcarvalh/projects/rljax/\")\n",
    "print(\"Started\")\n",
    "print(os.getcwd())\n",
    "\n",
    "import os\n",
    "import glob"
   ]
  },
  {
   "cell_type": "code",
   "execution_count": 5,
   "id": "92456b50-e66b-4f5a-a638-6d6ce228d723",
   "metadata": {},
   "outputs": [
    {
     "name": "stderr",
     "output_type": "stream",
     "text": [
      "/home/wcarvalh/miniconda3/envs/acmejax/lib/python3.8/site-packages/tqdm/auto.py:22: TqdmWarning: IProgress not found. Please update jupyter and ipywidgets. See https://ipywidgets.readthedocs.io/en/stable/user_install.html\n",
      "  from .autonotebook import tqdm as notebook_tqdm\n"
     ]
    }
   ],
   "source": [
    "from IPython.display import display, HTML\n",
    "\n",
    "from vistools.tensorboard_data import TensorboardData\n",
    "from vistools.tensorboard_vistools import Vistool, PanelTool\n",
    "\n",
    "\n",
    "%matplotlib inline\n",
    "%load_ext autoreload\n",
    "%autoreload 2"
   ]
  },
  {
   "cell_type": "code",
   "execution_count": 7,
   "id": "47e3920f-cdd9-4620-9446-080eb50db149",
   "metadata": {},
   "outputs": [
    {
     "name": "stderr",
     "output_type": "stream",
     "text": [
      "get_runs: /mnt/brain5/scratch/wcarvalh/projects/rljax/results/msf/final/respawn_baselines_2/*r2d1,*/*\n",
      "get_runs: /mnt/brain5/scratch/wcarvalh/projects/rljax/results/msf/final/baselines_v2/*r2d1,*/*\n"
     ]
    },
    {
     "name": "stdout",
     "output_type": "stream",
     "text": [
      "=========================\n",
      "/mnt/brain5/scratch/wcarvalh/projects/rljax/results/msf/final/respawn_baselines_2/*r2d1,*/*: 3\n",
      "=========================\n",
      "=========================\n",
      "/mnt/brain5/scratch/wcarvalh/projects/rljax/results/msf/final/baselines_v2/*r2d1,*/*: 4\n",
      "=========================\n"
     ]
    },
    {
     "name": "stderr",
     "output_type": "stream",
     "text": [
      "loaded: 100%|████████████████████████████████████████████████████████████████████████████████████████████████| 7/7 [00:00<00:00, 51599.52it/s]"
     ]
    },
    {
     "name": "stdout",
     "output_type": "stream",
     "text": [
      "Added: 2\n",
      "{'min_replay_size': {10000, 100}}\n"
     ]
    },
    {
     "name": "stderr",
     "output_type": "stream",
     "text": [
      "\n"
     ]
    },
    {
     "data": {
      "text/html": [
       "<div>\n",
       "<style scoped>\n",
       "    .dataframe tbody tr th:only-of-type {\n",
       "        vertical-align: middle;\n",
       "    }\n",
       "\n",
       "    .dataframe tbody tr th {\n",
       "        vertical-align: top;\n",
       "    }\n",
       "\n",
       "    .dataframe thead th {\n",
       "        text-align: right;\n",
       "    }\n",
       "</style>\n",
       "<table border=\"1\" class=\"dataframe\">\n",
       "  <thead>\n",
       "    <tr style=\"text-align: right;\">\n",
       "      <th></th>\n",
       "      <th>min_replay_size</th>\n",
       "    </tr>\n",
       "  </thead>\n",
       "  <tbody>\n",
       "    <tr>\n",
       "      <th>0</th>\n",
       "      <td>10000</td>\n",
       "    </tr>\n",
       "    <tr>\n",
       "      <th>1</th>\n",
       "      <td>100</td>\n",
       "    </tr>\n",
       "  </tbody>\n",
       "</table>\n",
       "</div>"
      ],
      "text/plain": [
       "   min_replay_size\n",
       "0            10000\n",
       "1              100"
      ]
     },
     "metadata": {},
     "output_type": "display_data"
    }
   ],
   "source": [
    "basepath=\"/mnt/brain5/scratch/wcarvalh/projects/rljax/results/msf/final/\"\n",
    "\n",
    "run_data = TensorboardData(\n",
    "    search_paths=None,\n",
    "    search_kwargs=dict(\n",
    "        basepath=basepath,\n",
    "        njobs=16,\n",
    "        verbose=1,\n",
    "    )\n",
    ")\n",
    "\n",
    "run_data.load_paths(\n",
    "    search_paths=[\n",
    "        # e.g. goto_avoid/settings/seed\n",
    "        \"respawn_baselines_2/*r2d1,*/*\", # usfa, rd21, lstm, farmflat\n",
    "        \"baselines_v2/*r2d1,*/*\", # usfa, rd21, lstm, farmflat\n",
    "    ],\n",
    "    config_file='config.json',\n",
    "\n",
    ")\n",
    "run_data.load_settings(config_search='config.json')"
   ]
  },
  {
   "cell_type": "code",
   "execution_count": null,
   "id": "40e30438-d0e5-442b-ae0f-39af34e0ea11",
   "metadata": {},
   "outputs": [],
   "source": []
  },
  {
   "cell_type": "code",
   "execution_count": null,
   "id": "987cddf1-71ed-4b27-92c8-12853333a6e9",
   "metadata": {},
   "outputs": [],
   "source": []
  },
  {
   "cell_type": "code",
   "execution_count": null,
   "id": "e75bcff5-b541-4e51-8c96-e4602ad0aa71",
   "metadata": {},
   "outputs": [],
   "source": []
  },
  {
   "cell_type": "code",
   "execution_count": null,
   "id": "eff19a7c-58c9-4056-902e-0cc72c592362",
   "metadata": {},
   "outputs": [],
   "source": []
  },
  {
   "cell_type": "code",
   "execution_count": 22,
   "id": "61e34792-c854-4aa4-8438-b7377d291324",
   "metadata": {},
   "outputs": [
    {
     "name": "stdout",
     "output_type": "stream",
     "text": [
      "['/mnt/brain5/scratch/wcarvalh/projects/rljax/results/msf/final/unsup_respawn_model/agent=usfa_farm_model,setting=large_respawn,exp=search3,extra_negatives=4,reward_coeff=0.0001,model_coeff=0.1,cumulant_const=delta,out_layers=0,seperate_model_params=True', '/mnt/brain5/scratch/wcarvalh/projects/rljax/results/msf/final/unsup_respawn_model/agent=usfa_farm_model,setting=large_respawn,exp=baselines,extra_negatives=4,reward_coeff=0.0001,model_coeff=0.1,cumulant_const=delta,out_layers=0']\n",
      "==================================================\n",
      "/mnt/brain5/scratch/wcarvalh/projects/rljax/results/msf/final/unsup_respawn_model/agent=usfa_farm_model,setting=large_respawn,exp=baselines,extra_negatives=4,reward_coeff=0.0001,model_coeff=0.1,cumulant_const=delta,out_layers=0\n"
     ]
    }
   ],
   "source": [
    "out = glob.glob(os.path.join(basepath, path, \"*usfa_farm_model*\"))\n",
    "print(out)\n",
    "\n",
    "exp_path = out[1]\n",
    "print(\"=\"*50)\n",
    "print(exp_path)"
   ]
  },
  {
   "cell_type": "code",
   "execution_count": 23,
   "id": "382aa2c6-51e9-498a-9a05-1e1aab9dc9ae",
   "metadata": {},
   "outputs": [
    {
     "name": "stdout",
     "output_type": "stream",
     "text": [
      "{'activation': 'relu',\n",
      " 'agent': 'usfa_farm_model',\n",
      " 'aggregation': 'concat',\n",
      " 'balance_reward': 0.25,\n",
      " 'batch_size': 32,\n",
      " 'bootstrap_n': 5,\n",
      " 'burn_in_length': 0,\n",
      " 'clip_rewards': False,\n",
      " 'concat_w': False,\n",
      " 'cumulant_act': 'identity',\n",
      " 'cumulant_const': 'delta',\n",
      " 'cumulant_hidden_size': 128,\n",
      " 'discount': 0.99,\n",
      " 'duelling': False,\n",
      " 'embed_task': False,\n",
      " 'eval_network': True,\n",
      " 'evaluation_epsilon': 0.0,\n",
      " 'extra_negatives': 4,\n",
      " 'farm_policy_task_input': False,\n",
      " 'farm_task_input': True,\n",
      " 'farm_vmap': False,\n",
      " 'final_lr_scale': 0.0,\n",
      " 'importance_sampling_exponent': 0.0,\n",
      " 'lambda_': 0.9,\n",
      " 'learning_rate': 0.001,\n",
      " 'loss_coeff': 1.0,\n",
      " 'max_gradient_norm': 80.0,\n",
      " 'max_number_of_steps': 5000000,\n",
      " 'max_priority_weight': 0.9,\n",
      " 'max_replay_size': 100000,\n",
      " 'min_replay_size': 10000,\n",
      " 'mixture': 'unique',\n",
      " 'model_coeff': 0.1,\n",
      " 'model_layers': 2,\n",
      " 'module_attn_heads': 0,\n",
      " 'module_attn_size': 64,\n",
      " 'module_size': 128,\n",
      " 'multihead': False,\n",
      " 'nmodules': 4,\n",
      " 'normalize_cumulants': False,\n",
      " 'normalize_delta': True,\n",
      " 'normalize_task': False,\n",
      " 'npolicies': 10,\n",
      " 'num_epsilons': 256,\n",
      " 'num_parallel_calls': 1,\n",
      " 'num_sgd_steps_per_step': 4,\n",
      " 'out_layers': 0,\n",
      " 'prefetch_size': 0,\n",
      " 'priority_exponent': 0.9,\n",
      " 'projection_dim': 16,\n",
      " 'q_aux': 'single',\n",
      " 'q_aux_anneal': 10000,\n",
      " 'replay_table_name': 'priority_table',\n",
      " 'reward_coeff': 0.0001,\n",
      " 'reward_loss': 'l2',\n",
      " 'samples_per_insert': 0.0,\n",
      " 'samples_per_insert_tolerance_rate': 0.1,\n",
      " 'seed': 1,\n",
      " 'sequence_period': 40,\n",
      " 'setting': 'large_respawn',\n",
      " 'sf_loss': 'n_step_q_learning_regular',\n",
      " 'shared_module_attn': False,\n",
      " 'state_hidden_size': 0,\n",
      " 'store_lstm_state': True,\n",
      " 'target_update_period': 2500,\n",
      " 'temperature': 0.01,\n",
      " 'trace_length': 40,\n",
      " 'value_coeff': 1.0,\n",
      " 'variable_update_period': 400,\n",
      " 'variance': 0.5,\n",
      " 'vision_torso': 'atari',\n",
      " 'z_as_train_task': False}\n"
     ]
    }
   ],
   "source": [
    "config = glob.glob(os.path.join(exp_path, \"seed=1/*config*\"))[0]\n",
    "import json\n",
    "with open(config) as f:\n",
    "    settings = json.load(f)\n",
    "import pprint\n",
    "pprint.pprint(settings)"
   ]
  },
  {
   "cell_type": "code",
   "execution_count": null,
   "id": "4fc8ead9-32ae-471d-b4db-22e5a6afdd47",
   "metadata": {},
   "outputs": [],
   "source": []
  }
 ],
 "metadata": {
  "kernelspec": {
   "display_name": "Python 3 (ipykernel)",
   "language": "python",
   "name": "python3"
  },
  "language_info": {
   "codemirror_mode": {
    "name": "ipython",
    "version": 3
   },
   "file_extension": ".py",
   "mimetype": "text/x-python",
   "name": "python",
   "nbconvert_exporter": "python",
   "pygments_lexer": "ipython3",
   "version": "3.8.0"
  }
 },
 "nbformat": 4,
 "nbformat_minor": 5
}
